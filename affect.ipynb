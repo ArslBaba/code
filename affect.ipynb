{
  "cells": [
    {
      "cell_type": "code",
      "execution_count": 1,
      "metadata": {
        "colab": {
          "base_uri": "https://localhost:8080/"
        },
        "id": "MtJSBlYiEZO4",
        "outputId": "cd896879-6650-4c04-ac61-a778dd4a3e12"
      },
      "outputs": [
        {
          "name": "stdout",
          "output_type": "stream",
          "text": [
            "Mounted at /content/drive\n",
            "2.8.0\n"
          ]
        }
      ],
      "source": [
        "%tensorflow_version 2.x\n",
        "import numpy as np\n",
        "import os\n",
        "import PIL\n",
        "import PIL.Image\n",
        "import tensorflow as tf\n",
        "from keras.models import load_model\n",
        "import matplotlib.pyplot as plt\n",
        "import tensorflow_datasets as tfds\n",
        "# This will prompt for authorization.\n",
        "from google.colab import drive\n",
        "drive.mount('/content/drive')\n",
        "print(tf.__version__)\n"
      ]
    },
    {
      "cell_type": "code",
      "execution_count": 2,
      "metadata": {
        "id": "dhYDbCXbEgqf"
      },
      "outputs": [],
      "source": [
        "data_dir = \"/content/drive/My Drive/affectnew\""
      ]
    },
    {
      "cell_type": "code",
      "execution_count": 3,
      "metadata": {
        "id": "QhJvSf2aGF0h"
      },
      "outputs": [],
      "source": [
        "batch_size = 80\n",
        "img_height = 180\n",
        "img_width = 180"
      ]
    },
    {
      "cell_type": "code",
      "execution_count": 4,
      "metadata": {
        "colab": {
          "base_uri": "https://localhost:8080/"
        },
        "id": "hyN_V61UGGmu",
        "outputId": "229ccbb5-cb48-4dcc-b030-3cbf6d813f1e"
      },
      "outputs": [
        {
          "name": "stdout",
          "output_type": "stream",
          "text": [
            "Found 4104 files belonging to 2 classes.\n",
            "Using 3078 files for training.\n"
          ]
        }
      ],
      "source": [
        "train_ds = tf.keras.utils.image_dataset_from_directory(\n",
        "  data_dir,\n",
        "  validation_split=0.25,\n",
        "  subset=\"training\",\n",
        "  seed=123,\n",
        "  image_size=(img_height, img_width),\n",
        "  batch_size=batch_size)\n"
      ]
    },
    {
      "cell_type": "code",
      "execution_count": 5,
      "metadata": {
        "colab": {
          "base_uri": "https://localhost:8080/"
        },
        "id": "CuF-gLnMHI_1",
        "outputId": "b5da24f7-863f-471f-8a11-86a74eec9c39"
      },
      "outputs": [
        {
          "name": "stdout",
          "output_type": "stream",
          "text": [
            "Found 4104 files belonging to 2 classes.\n",
            "Using 1026 files for validation.\n"
          ]
        }
      ],
      "source": [
        "val_ds = tf.keras.utils.image_dataset_from_directory(\n",
        "  data_dir,\n",
        "  validation_split=0.25,\n",
        "  subset=\"validation\",\n",
        "  seed=123,\n",
        "  image_size=(img_height, img_width),\n",
        "  batch_size=batch_size)\n"
      ]
    },
    {
      "cell_type": "code",
      "execution_count": 11,
      "metadata": {
        "colab": {
          "base_uri": "https://localhost:8080/",
          "height": 281
        },
        "id": "jURbGegmHn7n",
        "outputId": "e30fe4be-1b8c-4c2d-a980-f2ee22b01bba"
      },
      "outputs": [
        {
          "data": {
            "image/png": "[encoded data removed]",
            "text/plain": [
              "<Figure size 432x288 with 1 Axes>"
            ]
          },
          "metadata": {
            "needs_background": "light"
          },
          "output_type": "display_data"
        }
      ],
      "source": [
        "import matplotlib.pyplot as plt\n",
        "class_names = train_ds.class_names\n",
        "\n",
        "plt.figure(figsize=(10, 10))\n",
        "for images, labels in train_ds.take(1):\n",
        "  for i in range(9):\n",
        "    # ax = plt.subplot(3, 3, i + 1)\n",
        "    # plt.imshow(images[i].numpy().astype(\"uint8\"))\n",
        "    plt.title(class_names[labels[i]])\n",
        "    # plt.axis(\"off\")\n",
        "# for images, labels in train_ds:\n",
        "  # print(images.shape)\n",
        "  # print(class_names)"
      ]
    },
    {
      "cell_type": "code",
      "execution_count": null,
      "metadata": {
        "colab": {
          "base_uri": "https://localhost:8080/"
        },
        "id": "6RoS7r9wIA8_",
        "outputId": "1fba1e66-4cea-48fd-826c-96db0c0acb0c"
      },
      "outputs": [
        {
          "name": "stdout",
          "output_type": "stream",
          "text": [
            "(80, 180, 180, 3)\n",
            "(80,)\n"
          ]
        }
      ],
      "source": [
        "for image_batch, labels_batch in train_ds:\n",
        "  print(image_batch.shape)\n",
        "  print(labels_batch.shape)\n",
        "  break"
      ]
    },
    {
      "cell_type": "code",
      "execution_count": null,
      "metadata": {
        "id": "QaJ5HYU_Izb6"
      },
      "outputs": [],
      "source": [
        "AUTOTUNE = tf.data.AUTOTUNE\n",
        "\n",
        "train_ds = train_ds.cache().prefetch(buffer_size=AUTOTUNE)\n",
        "val_ds = val_ds.cache().prefetch(buffer_size=AUTOTUNE)"
      ]
    },
    {
      "cell_type": "code",
      "execution_count": null,
      "metadata": {
        "id": "dsyMP8Gnbyte"
      },
      "outputs": [],
      "source": [
        "normalization_layer = tf.keras.layers.Rescaling(1./255)"
      ]
    },
    {
      "cell_type": "code",
      "execution_count": null,
      "metadata": {
        "colab": {
          "base_uri": "https://localhost:8080/"
        },
        "id": "iQ3jdkm1byym",
        "outputId": "22d2ca1f-b357-4604-c2c7-20403c191189"
      },
      "outputs": [
        {
          "name": "stdout",
          "output_type": "stream",
          "text": [
            "0.0071241795 0.96926403\n"
          ]
        }
      ],
      "source": [
        "normalized_ds = train_ds.map(lambda x, y: (normalization_layer(x), y))\n",
        "image_batch, labels_batch = next(iter(normalized_ds))\n",
        "first_image = image_batch[0]\n",
        "# Notice the pixel values are now in `[0,1]`.\n",
        "print(np.min(first_image), np.max(first_image))"
      ]
    },
    {
      "cell_type": "code",
      "execution_count": null,
      "metadata": {
        "id": "ZEcLJfhFI_1l"
      },
      "outputs": [],
      "source": [
        "num_classes = 2\n",
        "\n",
        "model = tf.keras.Sequential([\n",
        "  tf.keras.layers.Rescaling(1./255),\n",
        "  tf.keras.layers.Conv2D(16, 3, activation='relu'),\n",
        "  tf.keras.layers.MaxPooling2D(),\n",
        "  tf.keras.layers.Conv2D(32, 3, activation='relu'),\n",
        "  tf.keras.layers.MaxPooling2D(),\n",
        "  tf.keras.layers.Conv2D(64, 3, activation='relu'),\n",
        "  tf.keras.layers.MaxPooling2D(),\n",
        "  tf.keras.layers.Flatten(),\n",
        "  tf.keras.layers.Dense(128, activation='relu'),\n",
        "  tf.keras.layers.Dense(num_classes)\n",
        "])\n",
        "\n",
        "# data_augmentation = tf.keras.Sequential(\n",
        "#   [\n",
        "#     tf.keras.layers.RandomFlip(\"horizontal\",\n",
        "#                       input_shape=(img_height,\n",
        "#                                   img_width,\n",
        "#                                   3)),\n",
        "#     tf.keras.layers.RandomRotation(0.1),\n",
        "#     tf.keras.layers.RandomZoom(0.1),\n",
        "#   ]\n",
        "# )\n",
        "\n",
        "# model = tf.keras.Sequential([\n",
        "#   data_augmentation,\n",
        "#   tf.keras.layers.Rescaling(1./255),\n",
        "#   tf.keras.layers.Conv2D(16, 3, padding='same', activation='relu'),\n",
        "#   tf.keras.layers.MaxPooling2D(),\n",
        "#   tf.keras.layers.Conv2D(32, 3, padding='same', activation='relu'),\n",
        "#   tf.keras.layers.MaxPooling2D(),\n",
        "#   tf.keras.layers.Conv2D(64, 3, padding='same', activation='relu'),\n",
        "#   tf.keras.layers.MaxPooling2D(),\n",
        "#   tf.keras.layers.Flatten(),\n",
        "#   tf.keras.layers.Dense(128, activation='relu'),\n",
        "#   tf.keras.layers.Dense(num_classes)\n",
        "# ])"
      ]
    },
    {
      "cell_type": "code",
      "execution_count": null,
      "metadata": {
        "id": "AeQoCcGhJECG"
      },
      "outputs": [],
      "source": [
        "model.compile(\n",
        "  optimizer='adam',\n",
        "  loss=tf.losses.SparseCategoricalCrossentropy(from_logits=True),\n",
        "  metrics=['accuracy'])"
      ]
    },
    {
      "cell_type": "code",
      "execution_count": null,
      "metadata": {
        "id": "teV5AOPhJHpp"
      },
      "outputs": [],
      "source": [
        "# history = model.fit(train_ds, validation_data=val_ds, epochs=18)\n",
        "# history=load_model('/content/drive/My Drive/2kimage.h5')\n",
        "history=load_model('/content/drive/My Drive/2K_Image_Model.h5')"
      ]
    },
    {
      "cell_type": "code",
      "execution_count": null,
      "metadata": {
        "id": "uK2IbwTDEQWc"
      },
      "outputs": [],
      "source": [
        "# savedModel.summary()"
      ]
    }
  ],
  "metadata": {
    "colab": {
      "collapsed_sections": [],
      "name": "affect.ipynb",
      "provenance": []
    },
    "kernelspec": {
      "display_name": "Python 3",
      "name": "python3"
    },
    "language_info": {
      "name": "python"
    }
  },
  "nbformat": 4,
  "nbformat_minor": 0
}
